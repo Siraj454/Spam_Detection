{
  "nbformat": 4,
  "nbformat_minor": 0,
  "metadata": {
    "colab": {
      "name": "Digit_Loading.ipynb",
      "provenance": [],
      "authorship_tag": "ABX9TyOlvha5iGXzbVF2SBxU+ji1",
      "include_colab_link": true
    },
    "kernelspec": {
      "name": "python3",
      "display_name": "Python 3"
    },
    "language_info": {
      "name": "python"
    }
  },
  "cells": [
    {
      "cell_type": "markdown",
      "metadata": {
        "id": "view-in-github",
        "colab_type": "text"
      },
      "source": [
        "<a href=\"https://colab.research.google.com/github/Siraj454/Spam_Detection/blob/main/Digit_Loading.ipynb\" target=\"_parent\"><img src=\"https://colab.research.google.com/assets/colab-badge.svg\" alt=\"Open In Colab\"/></a>"
      ]
    },
    {
      "cell_type": "code",
      "metadata": {
        "id": "LyQeXqWgVzhI"
      },
      "source": [
        "/content/digits"
      ],
      "execution_count": null,
      "outputs": []
    },
    {
      "cell_type": "code",
      "metadata": {
        "id": "72g1Xh1iZ0Oh"
      },
      "source": [
        "import os\n",
        "def ListofFiles(Dir):\n",
        "    Files = []\n",
        "    for root, dir_name, file_name in os.walk(Dir): \n",
        "#root store address till directory, dir_name stores directory name # file_name stores file name\n",
        "        for name in file_name:\n",
        "            fullName = os.path.join(root, name)\n",
        "            Files.append(fullName)\n",
        "    return Files"
      ],
      "execution_count": 1,
      "outputs": []
    },
    {
      "cell_type": "code",
      "metadata": {
        "id": "0WqmVw_WZ4Nv"
      },
      "source": [
        "Dir='/content/digits'\n",
        "FileList = ListofFiles(Dir)"
      ],
      "execution_count": 4,
      "outputs": []
    },
    {
      "cell_type": "code",
      "metadata": {
        "id": "yndf8hZQaIMG"
      },
      "source": [
        "from PIL import Image\n",
        "pixels=[]\n",
        "for file in FileList:\n",
        "    Im = Image.open(file)\n",
        "    pixels.append(list(Im.getdata()))"
      ],
      "execution_count": 5,
      "outputs": []
    },
    {
      "cell_type": "code",
      "metadata": {
        "colab": {
          "base_uri": "https://localhost:8080/"
        },
        "id": "GLp0QBRra0z5",
        "outputId": "a89ba44f-9c0d-4f50-e8d4-609ef550c577"
      },
      "source": [
        "import numpy as np\n",
        "from numpy import savetxt\n",
        "\n",
        "pixels_arr=np.asarray(pixels)\n",
        "print(pixels_arr.shape)\n",
        "savetxt('numbers.csv', pixels_arr, delimiter=',')"
      ],
      "execution_count": 7,
      "outputs": [
        {
          "output_type": "stream",
          "name": "stdout",
          "text": [
            "(1487, 64)\n"
          ]
        }
      ]
    },
    {
      "cell_type": "code",
      "metadata": {
        "id": "X0kE15vxbNts"
      },
      "source": [
        "import pandas as pd\n",
        "df=pd.read_csv('numbers.csv')"
      ],
      "execution_count": 9,
      "outputs": []
    },
    {
      "cell_type": "code",
      "metadata": {
        "colab": {
          "base_uri": "https://localhost:8080/"
        },
        "id": "rGt5MBdkbVXE",
        "outputId": "b1a24d6a-4108-4b7d-a357-43959dc66682"
      },
      "source": [
        "df.shape"
      ],
      "execution_count": 11,
      "outputs": [
        {
          "output_type": "execute_result",
          "data": {
            "text/plain": [
              "(1486, 64)"
            ]
          },
          "metadata": {},
          "execution_count": 11
        }
      ]
    },
    {
      "cell_type": "code",
      "metadata": {
        "id": "Dr57SwXKbseJ"
      },
      "source": [
        "import matplotlib.pyplot as plt"
      ],
      "execution_count": 13,
      "outputs": []
    },
    {
      "cell_type": "code",
      "metadata": {
        "colab": {
          "base_uri": "https://localhost:8080/",
          "height": 302
        },
        "id": "nZEdCiT_bBQA",
        "outputId": "efda6a50-d9ef-45eb-e55c-b8af9193620e"
      },
      "source": [
        "from numpy import loadtxt\n",
        "\n",
        "Image = loadtxt('numbers.csv', delimiter=',')\n",
        "X=Image[200,:].reshape(8,8)\n",
        "print(Image.shape)\n",
        "plt.imshow(X)"
      ],
      "execution_count": 19,
      "outputs": [
        {
          "output_type": "stream",
          "name": "stdout",
          "text": [
            "(1487, 64)\n"
          ]
        },
        {
          "output_type": "execute_result",
          "data": {
            "text/plain": [
              "<matplotlib.image.AxesImage at 0x7f39d27c95d0>"
            ]
          },
          "metadata": {},
          "execution_count": 19
        },
        {
          "output_type": "display_data",
          "data": {
            "image/png": "[encoded data removed]",
            "text/plain": [
              "<Figure size 432x288 with 1 Axes>"
            ]
          },
          "metadata": {
            "needs_background": "light"
          }
        }
      ]
    },
    {
      "cell_type": "code",
      "metadata": {
        "id": "IGRvV48VbJgV"
      },
      "source": [
        ""
      ],
      "execution_count": null,
      "outputs": []
    }
  ]
}